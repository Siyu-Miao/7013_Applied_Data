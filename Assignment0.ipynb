{
 "cells": [
  {
   "cell_type": "markdown",
   "metadata": {},
   "source": [
    "# github homework\n",
    "\n",
    "\n",
    "Run the below function ‘intro’ by passing your first name, last name and NYU net ID as arguments. (successful run should print ‘Welcome \"first name\" \"last name\". Your NYU id is \"NYU net ID\"’ as output).\n",
    "\n",
    "\n",
    "Create a new branch in your homework repository. (Branches are important if you need to have a separate workflow in the project or if multiple people are working collaboratively on the same repo.)\n",
    "\n",
    "\n",
    "Upload this file (with printed output) in the new branch created. Write ‘add HW with output’ as commit message.\n",
    "\n",
    "\n",
    "Create a pull request to merge the new branch with the main branch. Review the changes and merge the pull request."
   ]
  },
  {
   "cell_type": "code",
   "execution_count": 4,
   "metadata": {},
   "outputs": [],
   "source": [
    "def intro(first_name, last_name, netID):\n",
    "    \n",
    "    print('Welcome', first_name, last_name, \". Your NYU id is\", netID)"
   ]
  },
  {
   "cell_type": "code",
   "execution_count": 6,
   "metadata": {},
   "outputs": [
    {
     "name": "stdout",
     "output_type": "stream",
     "text": [
      "Welcome Siyu Miao . Your NYU id is sm11029\n"
     ]
    }
   ],
   "source": [
    "## pass your arguments in the function, remember to pass them as strings\n",
    "\n",
    "first_name = \"Siyu\"\n",
    "last_name=\"Miao\"\n",
    "netID = \"sm11029\"\n",
    "intro(first_name,last_name, netID)"
   ]
  }
 ],
 "metadata": {
  "kernelspec": {
   "display_name": "Python 3 (ipykernel)",
   "language": "python",
   "name": "python3"
  },
  "language_info": {
   "codemirror_mode": {
    "name": "ipython",
    "version": 3
   },
   "file_extension": ".py",
   "mimetype": "text/x-python",
   "name": "python",
   "nbconvert_exporter": "python",
   "pygments_lexer": "ipython3",
   "version": "3.11.4"
  }
 },
 "nbformat": 4,
 "nbformat_minor": 2
}
